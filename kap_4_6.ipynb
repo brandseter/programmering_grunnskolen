{
  "nbformat": 4,
  "nbformat_minor": 0,
  "metadata": {
    "kernelspec": {
      "display_name": "Python 3",
      "language": "python",
      "name": "python3"
    },
    "language_info": {
      "codemirror_mode": {
        "name": "ipython",
        "version": 3
      },
      "file_extension": ".py",
      "mimetype": "text/x-python",
      "name": "python",
      "nbconvert_exporter": "python",
      "pygments_lexer": "ipython3",
      "version": "3.8.5"
    },
    "colab": {
      "name": "kap_4_6_7.ipynb",
      "provenance": []
    }
  },
  "cells": [
    {
      "cell_type": "markdown",
      "metadata": {
        "id": "Jkwy3qYo2XKT"
      },
      "source": [
        "Basert på Haraldsrud, Sveinsson og Løvold (2020) *Programmering i skolen.* Universitetsforlaget "
      ]
    },
    {
      "cell_type": "markdown",
      "metadata": {
        "id": "RXzo9XZB2XKZ"
      },
      "source": [
        "- 4 Datastrukturer\n",
        "- 6 Plotting av data"
      ]
    },
    {
      "cell_type": "markdown",
      "metadata": {
        "id": "AZ9iKnlU2XKa"
      },
      "source": [
        "# 4 Datastrukturer"
      ]
    },
    {
      "cell_type": "markdown",
      "metadata": {
        "id": "Q1WmoTXZ2XKc"
      },
      "source": [
        "### Lister"
      ]
    },
    {
      "cell_type": "code",
      "metadata": {
        "scrolled": true,
        "id": "Fe7j_y6S2XKd"
      },
      "source": [
        "l=[1,3,'tekst']\n",
        "print(l)"
      ],
      "execution_count": null,
      "outputs": []
    },
    {
      "cell_type": "markdown",
      "metadata": {
        "id": "i9Q9R10B2XKe"
      },
      "source": [
        "Aksessere et element"
      ]
    },
    {
      "cell_type": "code",
      "metadata": {
        "scrolled": true,
        "id": "e02XrZSL2XKe"
      },
      "source": [
        "sum([1,2])"
      ],
      "execution_count": null,
      "outputs": []
    },
    {
      "cell_type": "code",
      "metadata": {
        "id": "3bzJwFnF2XKf"
      },
      "source": [
        "l[2]"
      ],
      "execution_count": null,
      "outputs": []
    },
    {
      "cell_type": "markdown",
      "metadata": {
        "id": "a0azS09r2XKf"
      },
      "source": [
        "Append"
      ]
    },
    {
      "cell_type": "code",
      "metadata": {
        "id": "AggmIQxn2XKg"
      },
      "source": [
        "l.append(3)\n",
        "print(l)"
      ],
      "execution_count": null,
      "outputs": []
    },
    {
      "cell_type": "markdown",
      "metadata": {
        "id": "l6Gzul812XKg"
      },
      "source": [
        "Liste av lister (av lister)"
      ]
    },
    {
      "cell_type": "code",
      "metadata": {
        "id": "77otNLxF2XKh"
      },
      "source": [
        "l=[1,2,[3,4]]\n",
        "print(l)"
      ],
      "execution_count": null,
      "outputs": []
    },
    {
      "cell_type": "code",
      "metadata": {
        "scrolled": true,
        "id": "_zxvwAuA2XKh"
      },
      "source": [
        "l[2][1]"
      ],
      "execution_count": null,
      "outputs": []
    },
    {
      "cell_type": "code",
      "metadata": {
        "id": "RmA5nPeo2XKi"
      },
      "source": [
        "l1=[1,2,3]\n",
        "l2=[4,4,4]\n",
        "\n",
        "print(l1+l2)"
      ],
      "execution_count": null,
      "outputs": []
    },
    {
      "cell_type": "markdown",
      "metadata": {
        "id": "4ukRsSfj2XKi"
      },
      "source": [
        "### 4.1 Array\n",
        "\n",
        "- Samling elementer\n",
        "- behandles matematisk med ulike operatorer, ikke ulikt vektorer og matriser"
      ]
    },
    {
      "cell_type": "markdown",
      "metadata": {
        "id": "tGERXxA72XKi"
      },
      "source": [
        "#### Lage en array"
      ]
    },
    {
      "cell_type": "code",
      "metadata": {
        "id": "82PQwhnn2XKi"
      },
      "source": [
        "import numpy as np"
      ],
      "execution_count": null,
      "outputs": []
    },
    {
      "cell_type": "code",
      "metadata": {
        "id": "ZugOqDRL2XKi"
      },
      "source": [
        "a1=np.array([1,2,3])\n",
        "print(a1)"
      ],
      "execution_count": null,
      "outputs": []
    },
    {
      "cell_type": "code",
      "metadata": {
        "id": "2nn-CvQ32XKi"
      },
      "source": [
        "a2=np.array([4,4,4])"
      ],
      "execution_count": null,
      "outputs": []
    },
    {
      "cell_type": "code",
      "metadata": {
        "scrolled": true,
        "id": "aop1LZDT2XKj"
      },
      "source": [
        "print(a1+a2)"
      ],
      "execution_count": null,
      "outputs": []
    },
    {
      "cell_type": "markdown",
      "metadata": {
        "id": "JF98v1oc2XKj"
      },
      "source": [
        "#### Elementer i en array"
      ]
    },
    {
      "cell_type": "code",
      "metadata": {
        "id": "_Fq_md1a2XKj"
      },
      "source": [
        "a1[0]"
      ],
      "execution_count": null,
      "outputs": []
    },
    {
      "cell_type": "code",
      "metadata": {
        "id": "V4R8SIGs2XKk"
      },
      "source": [
        "a2=np.zeros(100)\n",
        "print(a2)"
      ],
      "execution_count": null,
      "outputs": []
    },
    {
      "cell_type": "code",
      "metadata": {
        "id": "bGe_5CDP2XKk"
      },
      "source": [
        "a3=np.linspace(-2,2,100)\n",
        "print(a3)"
      ],
      "execution_count": null,
      "outputs": []
    },
    {
      "cell_type": "markdown",
      "metadata": {
        "id": "BY-ptEU32XKl"
      },
      "source": [
        "#### Oppgave \n",
        "Lag en array med 100 oddetall"
      ]
    },
    {
      "cell_type": "code",
      "metadata": {
        "id": "5GZ9HVz-2XKl"
      },
      "source": [
        "import numpy as np\n",
        "\n",
        "oddetall=np.zeros(100)\n",
        "oddetall[0]=77\n",
        "\n",
        "for i in range(1,100): \n",
        "    oddetall[i]=oddetall[i-1]+2\n",
        "\n",
        "    \n",
        "print(oddetall)\n",
        "len(oddetall)"
      ],
      "execution_count": null,
      "outputs": []
    },
    {
      "cell_type": "markdown",
      "metadata": {
        "id": "8vys8E4D2XKl"
      },
      "source": [
        "#### Vektor og matriseoperasjoner på arrayer"
      ]
    },
    {
      "cell_type": "code",
      "metadata": {
        "scrolled": true,
        "id": "SII5Mbjo2XKm"
      },
      "source": [
        "import numpy as np\n",
        "\n",
        "a=np.array([1,2,3])\n",
        "b=np.array([1,1,1])\n",
        "\n",
        "print(a)\n",
        "print(b)"
      ],
      "execution_count": null,
      "outputs": []
    },
    {
      "cell_type": "markdown",
      "metadata": {
        "id": "_L0NpItj2XKm"
      },
      "source": [
        "Legge sammen to vektorer"
      ]
    },
    {
      "cell_type": "code",
      "metadata": {
        "scrolled": true,
        "id": "ono1-b-I2XKm"
      },
      "source": [
        "a+b"
      ],
      "execution_count": null,
      "outputs": []
    },
    {
      "cell_type": "markdown",
      "metadata": {
        "id": "w53w74oJ2XKm"
      },
      "source": [
        "np.concatenate((a, b), axis=0)"
      ]
    },
    {
      "cell_type": "code",
      "metadata": {
        "id": "0Kiu7z6F2XKm"
      },
      "source": [
        "c=np.concatenate((a,b),axis=0)\n",
        "print(c)"
      ],
      "execution_count": null,
      "outputs": []
    },
    {
      "cell_type": "markdown",
      "metadata": {
        "id": "gXDdEi142XKn"
      },
      "source": [
        "Array av arrayer  - matrise"
      ]
    },
    {
      "cell_type": "code",
      "metadata": {
        "scrolled": true,
        "id": "kuomoOJD2XKn"
      },
      "source": [
        "d=np.array([a,b])\n",
        "print(d)"
      ],
      "execution_count": null,
      "outputs": []
    },
    {
      "cell_type": "code",
      "metadata": {
        "id": "hvH7PKqo2XKn"
      },
      "source": [
        "d[0][1]"
      ],
      "execution_count": null,
      "outputs": []
    },
    {
      "cell_type": "markdown",
      "metadata": {
        "id": "4ov0ly4T2XKn"
      },
      "source": [
        "**Matrise:**"
      ]
    },
    {
      "cell_type": "code",
      "metadata": {
        "id": "tFtqlJZ12XKn"
      },
      "source": [
        ""
      ],
      "execution_count": null,
      "outputs": []
    },
    {
      "cell_type": "markdown",
      "metadata": {
        "id": "lynAVPO02XKn"
      },
      "source": [
        "**skalarprodukt** \n",
        "$\\\\ a\\cdot b \\\\\n",
        "= a_1 \\cdot b_1 + a_2 \\cdot b_2 +a_3 \\cdot b_3\\\\\n",
        "= 1 \\cdot 1 + 2 \\cdot 1 +3 \\cdot 1\\\\\n",
        "= 6$\n"
      ]
    },
    {
      "cell_type": "code",
      "metadata": {
        "scrolled": true,
        "id": "rFlGwp5q2XKo"
      },
      "source": [
        "skalarprodukt=np.dot(a,b) \n",
        "print(skalarprodukt)"
      ],
      "execution_count": null,
      "outputs": []
    },
    {
      "cell_type": "code",
      "metadata": {
        "id": "qHGVxoLX2XKo"
      },
      "source": [
        "print(a)\n",
        "print(b)"
      ],
      "execution_count": null,
      "outputs": []
    },
    {
      "cell_type": "markdown",
      "metadata": {
        "id": "-u1THocL2XKo"
      },
      "source": [
        "**vektorprodukt** "
      ]
    },
    {
      "cell_type": "code",
      "metadata": {
        "scrolled": true,
        "id": "dxMCGEWt2XKo"
      },
      "source": [
        "vektorprodukt=np.cross(a,b) \n",
        "print(vektorprodukt)"
      ],
      "execution_count": null,
      "outputs": []
    },
    {
      "cell_type": "markdown",
      "metadata": {
        "id": "7L-yYfPI2XKp"
      },
      "source": [
        "**determinant** "
      ]
    },
    {
      "cell_type": "code",
      "metadata": {
        "id": "3bZs7rjM2XKp"
      },
      "source": [
        "determinant=np.linalg.det(np.array([a,b,np.array([4,3,1])])) \n",
        "print(determinant)"
      ],
      "execution_count": null,
      "outputs": []
    },
    {
      "cell_type": "markdown",
      "metadata": {
        "id": "rzm40jEv2XKp"
      },
      "source": [
        "### 4.4 Oppgaver "
      ]
    },
    {
      "cell_type": "markdown",
      "metadata": {
        "id": "1VDk3yvE2XKp"
      },
      "source": [
        "#### Oppgave 4.4.1\n",
        "- Lag to arrayer (a1 og a2) med tra tall hver. Legg sammen arrayene og legg dem i en ny array (a3). \n",
        "- Lag to lister (l1 og l2) med tra tall hver. Legg sammen listene og legg dem i en ny liste (l3). \n"
      ]
    },
    {
      "cell_type": "code",
      "metadata": {
        "id": "bAuZCsH02XKq"
      },
      "source": [
        ""
      ],
      "execution_count": null,
      "outputs": []
    },
    {
      "cell_type": "markdown",
      "metadata": {
        "id": "GUqJcs082XKq"
      },
      "source": [
        "#### Oppgave 4.4.2\n",
        "Gjenta oppgave 4.4.1, men test med multiplikasjon og divisjon\n"
      ]
    },
    {
      "cell_type": "code",
      "metadata": {
        "scrolled": true,
        "id": "c3veM4Ne2XKs"
      },
      "source": [
        " "
      ],
      "execution_count": null,
      "outputs": []
    },
    {
      "cell_type": "markdown",
      "metadata": {
        "id": "eB6LswUl2XKs"
      },
      "source": [
        "#### Oppgave 4.4.4\n",
        "Lag en array med alle tall i 9.gangen opp til 1000. Skriv ut tallene til slutt"
      ]
    },
    {
      "cell_type": "code",
      "metadata": {
        "scrolled": true,
        "id": "V6a9w2P02XKs"
      },
      "source": [
        ""
      ],
      "execution_count": null,
      "outputs": []
    },
    {
      "cell_type": "markdown",
      "metadata": {
        "id": "Zh7pIobN2XKs"
      },
      "source": [
        "#### Oppgave 4.4.5\n",
        "Lag en array med 100 nuller. Bruk en løkke til å fylle arrayen med kvadratet av de 100 første tallene (altså heltall mellom 0 og 100)."
      ]
    },
    {
      "cell_type": "code",
      "metadata": {
        "scrolled": true,
        "id": "0CuynmHc2XKt"
      },
      "source": [
        ""
      ],
      "execution_count": null,
      "outputs": []
    },
    {
      "cell_type": "markdown",
      "metadata": {
        "id": "pkiyWSaM2XKt"
      },
      "source": [
        " "
      ]
    },
    {
      "cell_type": "markdown",
      "metadata": {
        "id": "PnsFL3ir2XKu"
      },
      "source": [
        "## 6 Plotting"
      ]
    },
    {
      "cell_type": "code",
      "metadata": {
        "id": "aYaaOhZI2XKu"
      },
      "source": [
        "import numpy as np\n",
        "\n",
        "tid      = np.linspace(0,23,24)\n",
        "temp     = np.array([-3,-3,-3,-2,-2,-2,0,1,2,1,2,2,2,2,3,4,5,4,3,2,2,1,0,-1])"
      ],
      "execution_count": null,
      "outputs": []
    },
    {
      "cell_type": "code",
      "metadata": {
        "id": "fJYZMB292XKu"
      },
      "source": [
        "print(tid)"
      ],
      "execution_count": null,
      "outputs": []
    },
    {
      "cell_type": "code",
      "metadata": {
        "id": "_09tS2K62XKu"
      },
      "source": [
        "print(temp)"
      ],
      "execution_count": null,
      "outputs": []
    },
    {
      "cell_type": "markdown",
      "metadata": {
        "id": "URcK_8Si2XKv"
      },
      "source": [
        "#### Plotting med matplotlib\n",
        "\n",
        "Kan endre label, grenser, color, marker, linestyle"
      ]
    },
    {
      "cell_type": "code",
      "metadata": {
        "id": "9b11nauF2XKv"
      },
      "source": [
        "import matplotlib.pyplot as plt\n",
        "plt.plot(tid,temp,color='red',marker='o',linestyle='--')\n",
        "plt.xlabel('tid')\n",
        "plt.ylabel('temp')\n",
        "plt.ylim(-5,7)\n",
        "plt.xlim(-10,15)"
      ],
      "execution_count": null,
      "outputs": []
    },
    {
      "cell_type": "code",
      "metadata": {
        "id": "WXxLfVij2XKv"
      },
      "source": [
        "import matplotlib.pyplot as plt\n",
        "\n"
      ],
      "execution_count": null,
      "outputs": []
    },
    {
      "cell_type": "markdown",
      "metadata": {
        "id": "B-67GjkU2XKv"
      },
      "source": [
        "Flere dataserier i samme plot"
      ]
    },
    {
      "cell_type": "code",
      "metadata": {
        "id": "XRwBU-lv2XKv"
      },
      "source": [
        "import matplotlib.pyplot as plt\n",
        "plt.plot(tid,temp,color='red',marker='o',linestyle='--')\n",
        "plt.plot(tid,temp**2,color='blue',marker='d',linestyle='-')\n"
      ],
      "execution_count": null,
      "outputs": []
    },
    {
      "cell_type": "markdown",
      "metadata": {
        "id": "5SZ4meu-2XKw"
      },
      "source": [
        "### 6.1.1 Subplot"
      ]
    },
    {
      "cell_type": "code",
      "metadata": {
        "id": "trYwoAwK2XKw"
      },
      "source": [
        "plt.subplot(2,2,1)\n",
        "plt.plot(tid,temp,color='red',marker='o',linestyle='--')\n",
        "\n",
        "plt.subplot(2,2,2)\n",
        "plt.plot(tid,temp**2,color='blue',marker='d',linestyle='-')\n",
        "\n",
        "plt.subplot(2,2,3)\n",
        "plt.plot(tid,temp**0.5,color='green',marker='d',linestyle='-')\n"
      ],
      "execution_count": null,
      "outputs": []
    },
    {
      "cell_type": "markdown",
      "metadata": {
        "id": "sOM1a-tW2XKw"
      },
      "source": [
        "### 6.2 Plotting av funksjoner"
      ]
    },
    {
      "cell_type": "markdown",
      "metadata": {
        "id": "8WynWmCw2XKw"
      },
      "source": [
        "**Oppgave**\n",
        "\n",
        "Plot funksjonen $f(x)=x^2-2$ for $x\\in[-3,3]$"
      ]
    },
    {
      "cell_type": "code",
      "metadata": {
        "id": "ifivRdrY2XKw"
      },
      "source": [
        "import matplotlib.pyplot as plt\n",
        "import numpy as np\n",
        "\n",
        "def f(x):\n",
        "    return x**2-2\n",
        "\n",
        "x=np.linspace(-3,3,10)\n",
        "\n",
        "y=f(x)\n",
        "\n",
        "plt.plot(x,y,marker='o',linestyle='')"
      ],
      "execution_count": null,
      "outputs": []
    },
    {
      "cell_type": "markdown",
      "metadata": {
        "id": "jnUJtUDA2XKw"
      },
      "source": [
        "##### **Oppgave**\n",
        "\n",
        "Plot funksjonen $f(x,y)=sin(\\sqrt{x^2 +y^2})$ for $x,y\\in(-5,5)$"
      ]
    },
    {
      "cell_type": "code",
      "metadata": {
        "id": "v41jK2Fx2XKw"
      },
      "source": [
        "import matplotlib.pyplot as plt\n",
        "import numpy as np\n",
        "from mpl_toolkits.mplot3d import Axes3D"
      ],
      "execution_count": null,
      "outputs": []
    },
    {
      "cell_type": "markdown",
      "metadata": {
        "id": "DZPUAaaQ2XKw"
      },
      "source": [
        "lager et objekt som vi tegner i "
      ]
    },
    {
      "cell_type": "code",
      "metadata": {
        "id": "NGV_SGg12XKx"
      },
      "source": [
        "ax = plt.axes(projection='3d')"
      ],
      "execution_count": null,
      "outputs": []
    },
    {
      "cell_type": "markdown",
      "metadata": {
        "id": "K8VvqPr-2XKx"
      },
      "source": [
        "Definer en funksjon"
      ]
    },
    {
      "cell_type": "code",
      "metadata": {
        "id": "imyvDQds2XKx"
      },
      "source": [
        "def f(x,y):\n",
        "    return np.sin((x**2+y**2)**.5)"
      ],
      "execution_count": null,
      "outputs": []
    },
    {
      "cell_type": "markdown",
      "metadata": {
        "id": "wTVArwLw2XKx"
      },
      "source": [
        "Generer $x$ og $y$ verdier"
      ]
    },
    {
      "cell_type": "code",
      "metadata": {
        "id": "PiTAXUuq2XKy"
      },
      "source": [
        "x=np.linspace(-5,5,100)\n",
        "y=np.linspace(-5,5,100)"
      ],
      "execution_count": null,
      "outputs": []
    },
    {
      "cell_type": "code",
      "metadata": {
        "id": "0WPF4HgX2XKy"
      },
      "source": [
        "z=f(x,y)"
      ],
      "execution_count": null,
      "outputs": []
    },
    {
      "cell_type": "code",
      "metadata": {
        "id": "R2BFxeKV2XKy"
      },
      "source": [
        "print(z)"
      ],
      "execution_count": null,
      "outputs": []
    },
    {
      "cell_type": "code",
      "metadata": {
        "scrolled": true,
        "id": "eKXWAR0L2XKy"
      },
      "source": [
        "ax = plt.axes(projection='3d')\n",
        "ax.plot(x,y,z,'o')\n",
        "plt.show()"
      ],
      "execution_count": null,
      "outputs": []
    },
    {
      "cell_type": "markdown",
      "metadata": {
        "id": "Tllqei2P2XKy"
      },
      "source": [
        "#### Meshgrid"
      ]
    },
    {
      "cell_type": "code",
      "metadata": {
        "id": "wz5eTkDV2XKz"
      },
      "source": [
        "X,Y = np.meshgrid(x,y)"
      ],
      "execution_count": null,
      "outputs": []
    },
    {
      "cell_type": "code",
      "metadata": {
        "id": "lvwHQf4g2XK0"
      },
      "source": [
        "print(X)"
      ],
      "execution_count": null,
      "outputs": []
    },
    {
      "cell_type": "code",
      "metadata": {
        "id": "kLVqsW9H2XK0"
      },
      "source": [
        "X.shape"
      ],
      "execution_count": null,
      "outputs": []
    },
    {
      "cell_type": "code",
      "metadata": {
        "id": "wNxlowoq2XK0"
      },
      "source": [
        "Z=f(X,Y)\n",
        "print(Z)\n",
        "Z.shape"
      ],
      "execution_count": null,
      "outputs": []
    },
    {
      "cell_type": "code",
      "metadata": {
        "id": "3CRhAmx02XK0"
      },
      "source": [
        "ax = plt.axes(projection='3d')\n",
        "ax.plot_surface(X,Y,Z,cmap='inferno')\n",
        "plt.show()"
      ],
      "execution_count": null,
      "outputs": []
    },
    {
      "cell_type": "markdown",
      "metadata": {
        "id": "ZE411lUo2XK0"
      },
      "source": [
        "### 6.4 Oppgaver"
      ]
    },
    {
      "cell_type": "markdown",
      "metadata": {
        "id": "5PmbeMAG2XK0"
      },
      "source": [
        "#### Oppgave 6.4.1\n",
        "Plott grafen $f(x)= x^3-2x^2+x+3$ for $x\\in[-2,3]$.\n",
        "- plot for 100 verdier av $x$\n",
        "- pynt grafen med aksetittel o.l.\n",
        "- plot for 10 verdier av $x$\n",
        "- plot for 4 verdier av $x$\n",
        "- Hva betyr det egentlig å plotte en funksjon??\n"
      ]
    },
    {
      "cell_type": "code",
      "metadata": {
        "id": "_0rU_A5h2XK0"
      },
      "source": [
        ""
      ],
      "execution_count": null,
      "outputs": []
    },
    {
      "cell_type": "markdown",
      "metadata": {
        "id": "Waj02cqx2XK0"
      },
      "source": [
        "#### Oppgave 6.4.2\n",
        "Plot følgende funksjoner i samme koordinatsystem:\n",
        "- $ f(x) = x^2-2$\n",
        "- $ g(x) = x+1$\n",
        "- $ h(x) = 1/x$"
      ]
    },
    {
      "cell_type": "code",
      "metadata": {
        "id": "TOGThXrG2XK1"
      },
      "source": [
        ""
      ],
      "execution_count": null,
      "outputs": []
    },
    {
      "cell_type": "markdown",
      "metadata": {
        "id": "8BSQRsst2XK1"
      },
      "source": [
        ""
      ]
    }
  ]
}
