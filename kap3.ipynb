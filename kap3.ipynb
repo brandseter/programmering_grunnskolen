{
 "cells": [
  {
   "cell_type": "markdown",
   "metadata": {},
   "source": [
    "Basert på Haraldsrud, Sveinsson og Løvold (2020) *Programmering i skolen.* Universitetsforlaget "
   ]
  },
  {
   "cell_type": "markdown",
   "metadata": {},
   "source": [
    "# 3 Kontrollstrukturer og funksjoner"
   ]
  },
  {
   "cell_type": "markdown",
   "metadata": {},
   "source": [
    "1. Vilkår\n",
    "2. Løkker\n",
    "3. Funksjoner"
   ]
  },
  {
   "cell_type": "markdown",
   "metadata": {},
   "source": [
    "### 2.6 Boolske variabler"
   ]
  },
  {
   "cell_type": "code",
   "execution_count": null,
   "metadata": {},
   "outputs": [],
   "source": [
    "a=1\n",
    "b=2\n",
    "c= a<b\n",
    "\n",
    "print(c)"
   ]
  },
  {
   "cell_type": "markdown",
   "metadata": {},
   "source": [
    "Men hva skal vi med disse??"
   ]
  },
  {
   "cell_type": "markdown",
   "metadata": {},
   "source": [
    "Boolske variable forteller om noe er **True** eller **False**. Da kan vi programmere forskjellige vilkår, altså ulike utfall basert på hvorvidt et sett med logiske tester er sanne eller usanne."
   ]
  },
  {
   "cell_type": "markdown",
   "metadata": {},
   "source": [
    "## 3.1 Vilkår - \"if-tester\" "
   ]
  },
  {
   "cell_type": "markdown",
   "metadata": {},
   "source": [
    "Hvis noe er sant: gjør"
   ]
  },
  {
   "cell_type": "code",
   "execution_count": null,
   "metadata": {},
   "outputs": [],
   "source": [
    "if (a==b):\n",
    "    print('de er like')"
   ]
  },
  {
   "cell_type": "code",
   "execution_count": null,
   "metadata": {},
   "outputs": [],
   "source": [
    "if (a==b):\n",
    "    print('de er like')\n",
    "if (a!=b):\n",
    "    print('de er ikke like')"
   ]
  },
  {
   "cell_type": "code",
   "execution_count": null,
   "metadata": {},
   "outputs": [],
   "source": [
    "if (a>b):\n",
    "    print('a er storre enn b')\n",
    "if (a<=b):\n",
    "    print('a er mindre (eller lik) b')"
   ]
  },
  {
   "cell_type": "code",
   "execution_count": null,
   "metadata": {},
   "outputs": [],
   "source": [
    "if (a>b):\n",
    "    print('a er storre enn b')\n",
    "else:                                                 #if (a<=b):\n",
    "    print('a er mindre (eller lik) b')"
   ]
  },
  {
   "cell_type": "markdown",
   "metadata": {},
   "source": [
    "Kan definere en variabel som er **True** eller **False**"
   ]
  },
  {
   "cell_type": "code",
   "execution_count": null,
   "metadata": {},
   "outputs": [],
   "source": [
    "paastand= a==b"
   ]
  },
  {
   "cell_type": "code",
   "execution_count": null,
   "metadata": {},
   "outputs": [],
   "source": [
    "paastand"
   ]
  },
  {
   "cell_type": "code",
   "execution_count": null,
   "metadata": {},
   "outputs": [],
   "source": [
    "if (paastand):\n",
    "    print('påstanden er sann')"
   ]
  },
  {
   "cell_type": "code",
   "execution_count": null,
   "metadata": {},
   "outputs": [],
   "source": [
    "if (paastand):\n",
    "    print('påstanden er sann')\n",
    "if (paastand==False):\n",
    "    print('påstanden er ikke sann')"
   ]
  },
  {
   "cell_type": "markdown",
   "metadata": {},
   "source": [
    "### else if"
   ]
  },
  {
   "cell_type": "code",
   "execution_count": null,
   "metadata": {},
   "outputs": [],
   "source": [
    "tall=input('oppgi et tall: ')\n",
    "tall=float(tall)\n",
    "if tall>20:\n",
    "    print('tallet er større enn 20')\n",
    "if tall>5:\n",
    "    print('tallet er større enn 5')"
   ]
  },
  {
   "cell_type": "code",
   "execution_count": null,
   "metadata": {},
   "outputs": [],
   "source": [
    "tall=input('oppgi et tall: ')\n",
    "tall=float(tall)\n",
    "if tall>20:\n",
    "    print('tallet er større enn 20')\n",
    "elif tall>5:\n",
    "    print('tallet er større enn 5')\n",
    "else:\n",
    "    print('tallet er lite')"
   ]
  },
  {
   "cell_type": "markdown",
   "metadata": {},
   "source": [
    "#### Oppgave \n",
    "Lag et program som avgjør om et tall er positivt, negativt eller 0"
   ]
  },
  {
   "cell_type": "code",
   "execution_count": null,
   "metadata": {},
   "outputs": [],
   "source": [
    "tall = input('Oppgi et tall: ')\n",
    "tall = float(tall)\n",
    "\n",
    "if tall>0:\n",
    "    print('tallet er større enn 0')\n",
    "elif tall<0:\n",
    "    print('tallet mindre enn 0')\n",
    "else:\n",
    "    print('tallet er 0')"
   ]
  },
  {
   "cell_type": "markdown",
   "metadata": {},
   "source": [
    "#### Oppgave \n",
    "Skriv et program som løser andregradslikninger\n",
    "\n",
    "$0=ax^2+bx+c$"
   ]
  },
  {
   "cell_type": "markdown",
   "metadata": {},
   "source": [
    "$a,b,c$-formelen er:  $$x=\\dfrac{-b\\pm\\sqrt{(b^2-4ac)}}{2a}$$"
   ]
  },
  {
   "cell_type": "code",
   "execution_count": null,
   "metadata": {},
   "outputs": [],
   "source": [
    "a=float(input('Skriv inn a: '))\n",
    "b=float(input('Skriv inn b: '))\n",
    "c=float(input('Skriv inn c: '))"
   ]
  },
  {
   "cell_type": "markdown",
   "metadata": {},
   "source": [
    "Rotuttrykket bestemmer om vi får 1, 2 eller ingen reelle løsninger"
   ]
  },
  {
   "cell_type": "code",
   "execution_count": null,
   "metadata": {},
   "outputs": [],
   "source": [
    "rot=b**2-4*a*c\n",
    "\n",
    "if rot==0: # da har vi bare en løsning\n",
    "    # Fullfør koden\n",
    "elif rot>0:\n",
    "    # Fullfør koden\n",
    "else:\n",
    "    # Fullfør koden\n"
   ]
  },
  {
   "cell_type": "code",
   "execution_count": null,
   "metadata": {
    "scrolled": true
   },
   "outputs": [],
   "source": [
    "rot"
   ]
  },
  {
   "cell_type": "markdown",
   "metadata": {},
   "source": [
    "#### Oppgave 3.4.1\n",
    "Lag et program som sammenligner to tall og forteller hvilket som er størst"
   ]
  },
  {
   "cell_type": "code",
   "execution_count": null,
   "metadata": {},
   "outputs": [],
   "source": []
  },
  {
   "cell_type": "markdown",
   "metadata": {},
   "source": [
    "#### Oppgave 3.4.3\n",
    "Lag en kalkulator der du ber om to tall og en regneoperasjon, og utfører den valgte regneoperasjonen"
   ]
  },
  {
   "cell_type": "code",
   "execution_count": null,
   "metadata": {},
   "outputs": [],
   "source": []
  },
  {
   "cell_type": "markdown",
   "metadata": {},
   "source": [
    "## 3.2 Itterasjon med løkker"
   ]
  },
  {
   "cell_type": "markdown",
   "metadata": {},
   "source": [
    "### 3.2.1 While-løkker"
   ]
  },
  {
   "cell_type": "markdown",
   "metadata": {},
   "source": [
    "Gjentar en operasjon inntil logisk tilstand blir falskt"
   ]
  },
  {
   "cell_type": "code",
   "execution_count": null,
   "metadata": {},
   "outputs": [],
   "source": [
    "i=0\n",
    "while (i<5):\n",
    "    i=i+1\n",
    "    print(i)\n",
    "\n",
    "print('nå er ikke i mindre enn 5 lenger')"
   ]
  },
  {
   "cell_type": "markdown",
   "metadata": {},
   "source": [
    "#### Oppgave \n",
    "Skriv et program som sjekker om du gjetter riktig heltall mellom 0 og 20."
   ]
  },
  {
   "cell_type": "code",
   "execution_count": null,
   "metadata": {},
   "outputs": [],
   "source": [
    "hemmelig_tall=6\n",
    "gjetting=int(input('Gjett på et heltall mellom 0 og 20: '))\n",
    "\n",
    "while hemmelig_tall!=gjetting:\n",
    "    gjetting=int(input('Det var feil. Prøv på nytt'))\n",
    "    \n",
    "print('riktig!')"
   ]
  },
  {
   "cell_type": "markdown",
   "metadata": {},
   "source": [
    "### 3.2.2 For løkker"
   ]
  },
  {
   "cell_type": "code",
   "execution_count": null,
   "metadata": {},
   "outputs": [],
   "source": [
    "for i in range(0,10):\n",
    "    print('nå er i: ',i)"
   ]
  },
  {
   "cell_type": "markdown",
   "metadata": {},
   "source": [
    "#### Oppgave\n",
    "Lag et program for å summere alle heltall mellom 4 og 20 (dvs. $\\sum_{j=4}^{20} j$)"
   ]
  },
  {
   "cell_type": "code",
   "execution_count": null,
   "metadata": {},
   "outputs": [],
   "source": []
  },
  {
   "cell_type": "code",
   "execution_count": null,
   "metadata": {},
   "outputs": [],
   "source": []
  },
  {
   "cell_type": "markdown",
   "metadata": {},
   "source": [
    "#### Oppgave 3.4.14\n",
    "Lag et program som skriver ut \"DU er god til å skrive løkker!\" 1000 ganger"
   ]
  },
  {
   "cell_type": "code",
   "execution_count": null,
   "metadata": {},
   "outputs": [],
   "source": []
  },
  {
   "cell_type": "markdown",
   "metadata": {},
   "source": [
    "#### 3.4.15\n",
    "Lag et program som skriver ut alle partall mellom 3 og 11"
   ]
  },
  {
   "cell_type": "code",
   "execution_count": null,
   "metadata": {},
   "outputs": [],
   "source": [
    "# med bruk av while-løkke\n"
   ]
  },
  {
   "cell_type": "code",
   "execution_count": null,
   "metadata": {},
   "outputs": [],
   "source": [
    "# med bruk av for-løkke\n"
   ]
  },
  {
   "cell_type": "markdown",
   "metadata": {},
   "source": [
    "#### Oppgave 3.4.19\n",
    "Lag et program som skriver ut summen av de første 100 tallene i denne tallrekken:\n",
    "$1,5,9,14,17,...$ (altså tallrekken som stiger med 4 mellom hvert ledd)"
   ]
  },
  {
   "cell_type": "code",
   "execution_count": null,
   "metadata": {},
   "outputs": [],
   "source": []
  },
  {
   "cell_type": "markdown",
   "metadata": {},
   "source": [
    "#### Oppgave 3.4\n",
    "Ole har 5000 kr i banken. Renta er 3%. \n",
    "\n",
    "a) Bruk en for-løkke til å regne ut hvor mye Ole har i banken etter 10 år \n",
    "\n",
    "b) Bruk en while løkke til å regne ut hvor lenge Ole må vente før han har 10 000 i banken."
   ]
  },
  {
   "cell_type": "code",
   "execution_count": null,
   "metadata": {},
   "outputs": [],
   "source": [
    "#a\n"
   ]
  },
  {
   "cell_type": "code",
   "execution_count": null,
   "metadata": {},
   "outputs": [],
   "source": [
    "#b\n"
   ]
  },
  {
   "cell_type": "markdown",
   "metadata": {},
   "source": [
    "## 3.3 Funksjoner"
   ]
  },
  {
   "cell_type": "markdown",
   "metadata": {},
   "source": [
    "### 3.3.1 Kalle på en funksjon"
   ]
  },
  {
   "cell_type": "code",
   "execution_count": null,
   "metadata": {},
   "outputs": [],
   "source": [
    "min_liste=[1,4,5,8]"
   ]
  },
  {
   "cell_type": "code",
   "execution_count": null,
   "metadata": {},
   "outputs": [],
   "source": [
    "print(min_liste)"
   ]
  },
  {
   "cell_type": "code",
   "execution_count": null,
   "metadata": {},
   "outputs": [],
   "source": [
    "sum(min_liste)"
   ]
  },
  {
   "cell_type": "markdown",
   "metadata": {},
   "source": [
    "### 3.3.2 Definere en funksjon"
   ]
  },
  {
   "cell_type": "code",
   "execution_count": null,
   "metadata": {},
   "outputs": [],
   "source": [
    "def andregrads(x):\n",
    "    y=x*x\n",
    "    return y"
   ]
  },
  {
   "cell_type": "code",
   "execution_count": null,
   "metadata": {},
   "outputs": [],
   "source": [
    "andregrads(x=2)"
   ]
  },
  {
   "cell_type": "code",
   "execution_count": null,
   "metadata": {},
   "outputs": [],
   "source": [
    "def min_summering(x1,x2):\n",
    "    return x1+x2"
   ]
  },
  {
   "cell_type": "code",
   "execution_count": null,
   "metadata": {},
   "outputs": [],
   "source": [
    "min_summering(4,2)"
   ]
  },
  {
   "cell_type": "markdown",
   "metadata": {},
   "source": [
    "#### Oppgave\n",
    "Lag en funksjon som tar $x$ som parameter og regner ut $x^3$."
   ]
  },
  {
   "cell_type": "code",
   "execution_count": null,
   "metadata": {},
   "outputs": [],
   "source": []
  },
  {
   "cell_type": "markdown",
   "metadata": {},
   "source": [
    "### 3.3.3 Syntaks for funksjoner"
   ]
  },
  {
   "cell_type": "code",
   "execution_count": null,
   "metadata": {},
   "outputs": [],
   "source": [
    "def min_funksjon(par1,par2):\n",
    "    #kommando\n",
    "    y1=par1+par2\n",
    "    y2=par1-par2\n",
    "    return(y1,y2)"
   ]
  },
  {
   "cell_type": "code",
   "execution_count": null,
   "metadata": {},
   "outputs": [],
   "source": [
    "min_funksjon(1,2)"
   ]
  },
  {
   "cell_type": "markdown",
   "metadata": {},
   "source": [
    "##### 3.3.5 Funksjon inni funksjon"
   ]
  },
  {
   "cell_type": "markdown",
   "metadata": {},
   "source": [
    "#### Oppgave\n",
    "\n",
    "Kinetisk engergi: $\\dfrac{1}{2}mv^2$ \n",
    "\n",
    "Potensiel energi: $mgh$\n",
    "\n",
    "Lag en funksjon som tar nødvendig antall input for å beregne total engeri"
   ]
  },
  {
   "cell_type": "code",
   "execution_count": null,
   "metadata": {},
   "outputs": [],
   "source": [
    "def kin(m,v):\n",
    "    return(0.5*m*v*v)\n",
    "    \n",
    "def pot(m,h):\n",
    "    g=9.81\n",
    "    return(m*g*h)\n",
    "\n",
    "def tot(m,v,h):\n",
    "    return(kin(m,v)+pot(m,h))"
   ]
  },
  {
   "cell_type": "code",
   "execution_count": null,
   "metadata": {},
   "outputs": [],
   "source": [
    "tot(1,1,1)"
   ]
  },
  {
   "cell_type": "markdown",
   "metadata": {},
   "source": [
    "### Funksjoner"
   ]
  },
  {
   "cell_type": "markdown",
   "metadata": {},
   "source": [
    "#### 3.4\n",
    "Definer en funksjon *areal* som tar lengde *l* og bredde *b* av en rektangel som input, og bergener arealet av rektangelet. "
   ]
  },
  {
   "cell_type": "code",
   "execution_count": null,
   "metadata": {},
   "outputs": [],
   "source": []
  },
  {
   "cell_type": "markdown",
   "metadata": {},
   "source": [
    "#### 3.4.26\n",
    "Definer en funksjon som tar et navn som parameter og som skriver ut \"Hei, $<navn>!$\""
   ]
  },
  {
   "cell_type": "code",
   "execution_count": null,
   "metadata": {},
   "outputs": [],
   "source": []
  },
  {
   "cell_type": "markdown",
   "metadata": {},
   "source": [
    "#### 3.4.27\n",
    "Lag en funksjon som tar radius i en sirkel som input og som gir output areal og omkrets"
   ]
  },
  {
   "cell_type": "code",
   "execution_count": null,
   "metadata": {},
   "outputs": [],
   "source": []
  },
  {
   "cell_type": "markdown",
   "metadata": {},
   "source": [
    "#### 3.4\n",
    "Du får oppgitt diameter og omkrets på 3 sirkler:\n",
    "\n",
    "Sirkel 1: d = 5,       O =15.71\n",
    "\n",
    "Sirkel 2: d = 2.51234, O = 7.892748\n",
    "\n",
    "Sirkel 3: d = 77.0001, O = 241.905\n",
    "\n",
    "Skriv et program som beregner forholdet mellom diameter og omkrets i sirkel 1, 2 og 3"
   ]
  },
  {
   "cell_type": "code",
   "execution_count": null,
   "metadata": {},
   "outputs": [],
   "source": []
  }
 ],
 "metadata": {
  "kernelspec": {
   "display_name": "Python 3",
   "language": "python",
   "name": "python3"
  },
  "language_info": {
   "codemirror_mode": {
    "name": "ipython",
    "version": 3
   },
   "file_extension": ".py",
   "mimetype": "text/x-python",
   "name": "python",
   "nbconvert_exporter": "python",
   "pygments_lexer": "ipython3",
   "version": "3.8.5"
  }
 },
 "nbformat": 4,
 "nbformat_minor": 4
}
